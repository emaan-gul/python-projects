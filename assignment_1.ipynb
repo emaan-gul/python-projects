{
  "nbformat": 4,
  "nbformat_minor": 0,
  "metadata": {
    "colab": {
      "provenance": []
    },
    "kernelspec": {
      "name": "python3",
      "display_name": "Python 3"
    },
    "language_info": {
      "name": "python"
    }
  },
  "cells": [
    {
      "cell_type": "code",
      "execution_count": 9,
      "metadata": {
        "colab": {
          "base_uri": "https://localhost:8080/"
        },
        "id": "0i1kLaGiGGbT",
        "outputId": "3a9f49da-ee78-46ca-9cac-7c39365f4269"
      },
      "outputs": [
        {
          "output_type": "stream",
          "name": "stdout",
          "text": [
            "{'9780061120084': 8, '9780544003415': 12}\n",
            "[('9780061120084', 'The Da Vinci Code', 'Dan Brown', 9.99, 50), ('9780141439563', 'The Road', 'Cormac McCarthy', 8.99, 30)]\n",
            "{'name': 'Emma Watson', 'email': 'emma@example.com', 'order_history': {'2024-03-30': {'9780061120084': 2}}}\n"
          ]
        }
      ],
      "source": [
        "\n",
        "inventory = [\n",
        "    (\"9780061120084\", \"The Da Vinci Code\", \"Dan Brown\", 9.99, 50),\n",
        "    (\"9780141439563\", \"The Road\", \"Cormac McCarthy\", 8.99, 30),\n",
        "    (\"9780544003415\", \"The Hunger Games\", \"Suzanne Collins\", 12.99, 40)\n",
        "]\n",
        "sale = {\n",
        "    \"2024-03-30\": {\"9780061120084\": 10, \"9780141439563\": 5},\n",
        "    \"2024-03-31\": {\"9780061120084\": 8, \"9780544003415\": 12}\n",
        "}\n",
        "categories = {\n",
        "    \"Fiction\": [\n",
        "        (\"9780061120084\", \"The Da Vinci Code\", \"Dan Brown\", 9.99, 50),\n",
        "        (\"9780141439563\", \"The Road\", \"Cormac McCarthy\", 8.99, 30)\n",
        "    ],\n",
        "    \"Science Fiction\": [\n",
        "        (\"9780544003415\", \"The Hunger Games\", \"Suzanne Collins\", 12.99, 40)\n",
        "    ]\n",
        "}\n",
        "clients = {\n",
        "    2001: {\"name\": \"Emma Watson\", \"email\": \"emma@example.com\", \"order_history\": {\"2024-03-30\": {\"9780061120084\": 2}}},\n",
        "    2002: {\"name\": \"Tom Hanks\", \"email\": \"tom@example.com\", \"order_history\": {\"2024-03-31\": {\"9780544003415\": 1}}}\n",
        "}\n",
        "def add(book_info):\n",
        "    inventory.append(book_info)\n",
        "def update(isbn, new_quantity):\n",
        "    for i, book in enumerate(inventory):\n",
        "        if book[0] == isbn:\n",
        "            updated_book = (book[0], book[1], book[2], book[3], new_quantity)\n",
        "            inventory[i] = updated_book\n",
        "            break\n",
        "def record(date, isbn, quantity):\n",
        "    if date not in sale:\n",
        "        sale[date] = {}\n",
        "    if isbn in sale[date]:\n",
        "        sale[date][isbn] += quantity\n",
        "    else:\n",
        "        sale[date][isbn] = quantity\n",
        "def process_order(client_id, order_set, date):\n",
        "    client = clients.get(client_id)\n",
        "    if client:\n",
        "        for isbn in order_set:\n",
        "            for i, book in enumerate(inventory):\n",
        "                if book[0] == isbn and book[-1] > 0:\n",
        "                    record(date, isbn, 1)\n",
        "                    client[\"order_history\"].setdefault(date, {}).update({isbn: 1})\n",
        "                    inventory[i] = (book[0], book[1], book[2], book[3], book[-1] - 1)\n",
        "                    break\n",
        "def retrieve_sale(date=None):\n",
        "    if date:\n",
        "        return sale.get(date, {})\n",
        "    else:\n",
        "        return sale\n",
        "def browse_category(category):\n",
        "    return categories.get(category, [])\n",
        "def retrieve_client_info(client_id):\n",
        "    return clients.get(client_id, {})\n",
        "new_book = (\"9780451524935\", \"The Catcher in the Rye\", \"J.D. Salinger\", 7.99, 20)\n",
        "add(new_book)\n",
        "update(\"9780061120084\", 45)\n",
        "process_order(2002, {\"9780141439563\", \"9780544003415\"}, \"2024-04-01\")\n",
        "print(retrieve_sale(\"2024-03-31\"))\n",
        "print(browse_category(\"Fiction\"))\n",
        "print(retrieve_client_info(2001))\n"
      ]
    }
  ]
}